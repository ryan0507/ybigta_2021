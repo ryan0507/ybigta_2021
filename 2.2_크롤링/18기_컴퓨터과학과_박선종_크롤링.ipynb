{
 "cells": [
  {
   "cell_type": "code",
   "execution_count": 1,
   "id": "toxic-quilt",
   "metadata": {},
   "outputs": [],
   "source": [
    "from selenium import webdriver\n",
    "from selenium.webdriver.common.keys import Keys\n",
    "import time"
   ]
  },
  {
   "cell_type": "code",
   "execution_count": 2,
   "id": "perfect-granny",
   "metadata": {},
   "outputs": [],
   "source": [
    "path = 'D:/chrome download/chromedriver_win32/chromedriver.exe'\n",
    "driver = webdriver.Chrome(path)"
   ]
  },
  {
   "cell_type": "code",
   "execution_count": 3,
   "id": "short-rainbow",
   "metadata": {},
   "outputs": [],
   "source": [
    "driver.get('https://www.naver.com')\n",
    "\n",
    "search = driver.find_element_by_id('query')\n",
    "time.sleep(3)\n",
    "\n",
    "search.send_keys('제주도')\n",
    "time.sleep(3)\n",
    "search.send_keys(Keys.RETURN)\n",
    "time.sleep(3)\n",
    "\n",
    "search = driver.find_element_by_link_text('뉴스')\n",
    "search.click()"
   ]
  },
  {
   "cell_type": "code",
   "execution_count": 4,
   "id": "characteristic-saint",
   "metadata": {},
   "outputs": [
    {
     "data": {
      "text/plain": [
       "'https://search.naver.com/search.naver?where=news&sm=tab_jum&query=%EC%A0%9C%EC%A3%BC%EB%8F%84'"
      ]
     },
     "execution_count": 4,
     "metadata": {},
     "output_type": "execute_result"
    }
   ],
   "source": [
    "driver.current_url"
   ]
  },
  {
   "cell_type": "code",
   "execution_count": 5,
   "id": "continent-spread",
   "metadata": {},
   "outputs": [
    {
     "name": "stdout",
     "output_type": "stream",
     "text": [
      "['신임 제주도 보훈청장에 이동희 서기관', '제품 이미지·매출↑…제주도, 스토리텔링 마케팅 지원', '제주도 자치경찰단, ‘야외 천막 술파티’ 등 방역수칙 위반 17건 적발', \"제주도 '첨단 방역기술 도입' 시동…카이스트와 협약\", '제주도, 쓰레기 무단투기 등 불법행위 집중 단속 추진', '민주당 제주도당 \"제주4.3특별법 법안소위 통과 환영\"', '제주도의회 “몸집 키운 카지노, 제주도에 더 기여하라”', '제주도, 현수막 등 불법 옥외광고물 일제 정비', \"JDC 인터넷면세점 확대 추진에 제주도-관광공사 '발끈'\", '제주도체육회, 지방체육회장 간담회 개최']\n"
     ]
    }
   ],
   "source": [
    "all_title = []\n",
    "\n",
    "\n",
    "for i in range(1,50):\n",
    "    i = str(i)\n",
    "    \n",
    "    try:\n",
    "        css = '#sp_nws' + i + ' > div.news_wrap.api_ani_send > div > a '\n",
    "        content = driver.find_element_by_css_selector(css)\n",
    "        all_title.append(content.text)\n",
    "    except:\n",
    "        continue\n",
    "\n",
    "print(all_title)"
   ]
  },
  {
   "cell_type": "code",
   "execution_count": 6,
   "id": "temporal-croatia",
   "metadata": {},
   "outputs": [],
   "source": [
    "#sp_nws1 > div.news_wrap.api_ani_send > div > a\n",
    "#sp_nws6 > div.news_wrap.api_ani_send > div > a"
   ]
  }
 ],
 "metadata": {
  "kernelspec": {
   "display_name": "ybigta",
   "language": "python",
   "name": "ybigta"
  },
  "language_info": {
   "codemirror_mode": {
    "name": "ipython",
    "version": 3
   },
   "file_extension": ".py",
   "mimetype": "text/x-python",
   "name": "python",
   "nbconvert_exporter": "python",
   "pygments_lexer": "ipython3",
   "version": "3.8.5"
  }
 },
 "nbformat": 4,
 "nbformat_minor": 5
}
